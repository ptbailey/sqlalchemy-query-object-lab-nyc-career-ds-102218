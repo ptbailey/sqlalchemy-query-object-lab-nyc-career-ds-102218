{
 "cells": [
  {
   "cell_type": "markdown",
   "metadata": {},
   "source": [
    "# SQLAlchemy Query Objects Lab"
   ]
  },
  {
   "cell_type": "markdown",
   "metadata": {},
   "source": [
    "Recall the Query Object lab from the Object-Oriented Python section.  Remember having to write a separate Query class, whose responsibility was to handle queries for all of our other classes?  Well, fortunately the SQLAlchemy library provides all of that code for us already so we can get to querying right away!  In this lab we will use SQLAlchemy's `query()` method to find information from our database and return this data to us in object format."
   ]
  },
  {
   "cell_type": "markdown",
   "metadata": {},
   "source": [
    "## Objectives\n",
    "\n",
    "1.  Become comfortable working with SQLAlchemy's `query` object to pull information from a database\n",
    "2.  Use `filter` and `filter_by` to pull data that meets certain criteria\n",
    "3.  Use `order_by` to order resulting data and use `desc` to order from highest to lowest\n",
    "4.  Understand how to use `func` to write aggregate functions like COUNT, AVG, MIN, MAX, and SUM"
   ]
  },
  {
   "cell_type": "markdown",
   "metadata": {},
   "source": [
    "## Dow Jones Industrials Table 2.0\n",
    "\n",
    "We will once again query from the table of companies making up the Dow Jones Industrial Average index.  However, this time we will use SQLAlchemy to write SQL commands for us.  Write your SQLAlchemy queries in the methods defined in the `queries.py` file.  A sample from the `companies` table is featured below:\n",
    "\n",
    "company         |exchange|symbol|industry                         |date_added|enterprise_value|\n",
    "----------------|--------|------|---------------------------------|----------|----------------|\n",
    "3M              |NYSE    |MMM   |Conglomerate                     |1976-08-09|133.31          |\n",
    "American Express|NYSE    |AXP   |Financial services               |1982-08-30|98.08           |\n",
    "Apple           |NASDAQ  |AAPL  |Technology                       |2015-03-19|954.8           |\n",
    "Boeing          |NYSE    |BA    |Manufacturing                    |1987-03-12|196.37          |\n",
    "Caterpillar     |NYSE    |CAT   |Manufacturing                    |1991-05-06|118.42          |\n",
    "Chevron         |NYSE    |CVX   |Oil & gas                        |2008-02-19|264.51          |"
   ]
  },
  {
   "cell_type": "code",
   "execution_count": 20,
   "metadata": {},
   "outputs": [],
   "source": [
    "from sqlalchemy import * #create_engine, func\n",
    "from seed import Company\n",
    "from sqlalchemy.orm import sessionmaker\n",
    "\n",
    "engine = create_engine('sqlite:///dow_jones.db', echo=True)\n",
    "Session = sessionmaker(bind=engine)\n",
    "session = Session()"
   ]
  },
  {
   "cell_type": "markdown",
   "metadata": {},
   "source": [
    "* `return_apple`\n",
    "\n",
    "Write a query that returns a Apple's Company object.  We can pull the Company object from the Query object by chaining `.first()` or `[0]` to the end of the query."
   ]
  },
  {
   "cell_type": "code",
   "execution_count": 92,
   "metadata": {},
   "outputs": [
    {
     "name": "stdout",
     "output_type": "stream",
     "text": [
      "2018-11-05 11:16:02,993 INFO sqlalchemy.engine.base.Engine SELECT companies.company AS companies_company \n",
      "FROM companies \n",
      "WHERE companies.company = ?\n",
      "2018-11-05 11:16:02,994 INFO sqlalchemy.engine.base.Engine ('Apple',)\n"
     ]
    },
    {
     "data": {
      "text/plain": [
       "('Apple')"
      ]
     },
     "execution_count": 92,
     "metadata": {},
     "output_type": "execute_result"
    }
   ],
   "source": [
    "def return_apple():\n",
    "    return ((session.query(Company.company).filter_by(company = 'Apple')).all()).pop()\n",
    "return_apple()"
   ]
  },
  {
   "cell_type": "markdown",
   "metadata": {},
   "source": [
    "* `return_disneys_industry`\n",
    "\n",
    "Write a query that returns Disney's industry."
   ]
  },
  {
   "cell_type": "code",
   "execution_count": 88,
   "metadata": {},
   "outputs": [
    {
     "name": "stdout",
     "output_type": "stream",
     "text": [
      "2018-11-05 11:11:14,288 INFO sqlalchemy.engine.base.Engine SELECT companies.industry AS companies_industry \n",
      "FROM companies \n",
      "WHERE companies.symbol = ?\n",
      "2018-11-05 11:11:14,289 INFO sqlalchemy.engine.base.Engine ('DIS',)\n"
     ]
    },
    {
     "data": {
      "text/plain": [
       "'Broadcasting\\xa0and\\xa0entertainment'"
      ]
     },
     "execution_count": 88,
     "metadata": {},
     "output_type": "execute_result"
    }
   ],
   "source": [
    "def return_disneys_industry():\n",
    "    return ''.join(((session.query(Company.industry).filter_by(symbol='DIS').all())).pop())\n",
    "return_disneys_industry()"
   ]
  },
  {
   "cell_type": "markdown",
   "metadata": {},
   "source": [
    "* `return_list_of_company_objects_ordered_alphabetically_by_symbol`\n",
    "\n",
    "Write a query that returns a list of Company objects for all the companies in the Dow.  The list should be ordered alphabetically by `symbol`."
   ]
  },
  {
   "cell_type": "code",
   "execution_count": 30,
   "metadata": {},
   "outputs": [
    {
     "name": "stdout",
     "output_type": "stream",
     "text": [
      "2018-11-05 09:43:23,907 INFO sqlalchemy.engine.base.Engine SELECT companies.id AS companies_id, companies.company AS companies_company, companies.exchange AS companies_exchange, companies.symbol AS companies_symbol, companies.industry AS companies_industry, companies.date_added AS companies_date_added, companies.enterprise_value AS companies_enterprise_value \n",
      "FROM companies ORDER BY companies.symbol\n",
      "2018-11-05 09:43:23,908 INFO sqlalchemy.engine.base.Engine ()\n"
     ]
    },
    {
     "data": {
      "text/plain": [
       "[<seed.Company at 0x103e6a940>,\n",
       " <seed.Company at 0x103e75e10>,\n",
       " <seed.Company at 0x103e75e80>,\n",
       " <seed.Company at 0x103e75ef0>,\n",
       " <seed.Company at 0x103e75f60>,\n",
       " <seed.Company at 0x103e78048>,\n",
       " <seed.Company at 0x103e780f0>,\n",
       " <seed.Company at 0x103e78198>,\n",
       " <seed.Company at 0x103e78240>,\n",
       " <seed.Company at 0x103e782e8>,\n",
       " <seed.Company at 0x103e78390>,\n",
       " <seed.Company at 0x103e78438>,\n",
       " <seed.Company at 0x103e784e0>,\n",
       " <seed.Company at 0x103e78588>,\n",
       " <seed.Company at 0x103e78630>,\n",
       " <seed.Company at 0x103e786d8>,\n",
       " <seed.Company at 0x103e78780>,\n",
       " <seed.Company at 0x103e78828>,\n",
       " <seed.Company at 0x103e788d0>,\n",
       " <seed.Company at 0x103e78978>,\n",
       " <seed.Company at 0x103e78a20>,\n",
       " <seed.Company at 0x103e78ac8>,\n",
       " <seed.Company at 0x103e78b70>,\n",
       " <seed.Company at 0x103e78c18>,\n",
       " <seed.Company at 0x103e78cc0>,\n",
       " <seed.Company at 0x103e78d68>,\n",
       " <seed.Company at 0x103e78e10>,\n",
       " <seed.Company at 0x103e78eb8>,\n",
       " <seed.Company at 0x103e78f60>,\n",
       " <seed.Company at 0x103e7d048>]"
      ]
     },
     "execution_count": 30,
     "metadata": {},
     "output_type": "execute_result"
    }
   ],
   "source": [
    "def return_list_of_company_objects_ordered_alphabetically_by_symbol():\n",
    "    return session.query(Company).order_by(Company.symbol).all()\n",
    "return_list_of_company_objects_ordered_alphabetically_by_symbol()"
   ]
  },
  {
   "cell_type": "markdown",
   "metadata": {},
   "source": [
    "* `return_list_of_dicts_of_tech_company_names_and_their_EVs_ordered_by_EV_descending`\n",
    "\n",
    "Write a query that returns a list of dictionaries for all the technology companies in the DJIA.  Each dictionary will have keys of `'company'` and `EV` that point to the respective company name and enterprise value for each company.  The list should be ordered by enterprise value from greatest to least."
   ]
  },
  {
   "cell_type": "code",
   "execution_count": 63,
   "metadata": {},
   "outputs": [
    {
     "name": "stdout",
     "output_type": "stream",
     "text": [
      "2018-11-05 10:06:58,595 INFO sqlalchemy.engine.base.Engine SELECT companies.company AS companies_company, companies.enterprise_value AS companies_enterprise_value \n",
      "FROM companies \n",
      "WHERE companies.industry = ? ORDER BY companies.enterprise_value DESC\n",
      "2018-11-05 10:06:58,596 INFO sqlalchemy.engine.base.Engine ('Technology',)\n"
     ]
    },
    {
     "data": {
      "text/plain": [
       "[{'Apple': 954.8},\n",
       " {'Microsoft': 708.61},\n",
       " {'Intel': 244.6},\n",
       " {'IBM': 178.63},\n",
       " {'Cisco Systems': 174.31}]"
      ]
     },
     "execution_count": 63,
     "metadata": {},
     "output_type": "execute_result"
    }
   ],
   "source": [
    "\n",
    "def return_list_of_dicts_of_tech_company_names_and_their_EVs_ordered_by_EV_descending():\n",
    "    ordered = session.query(Company.company,Company.enterprise_value).\\\n",
    "    filter(Company.industry == 'Technology').order_by(Company.enterprise_value.desc()).all()\n",
    "    return [{x[0]:x[1]} for x in ordered]\n",
    "return_list_of_dicts_of_tech_company_names_and_their_EVs_ordered_by_EV_descending()"
   ]
  },
  {
   "cell_type": "markdown",
   "metadata": {},
   "source": [
    "* `return_list_of_consumer_products_companies_with_EV_above_225`\n",
    "\n",
    "Write a query that returns a those consumer products companies with an enterprise value over $225 billion.  The query should return a list of dictionaries.  Each dictionary will have a key of `name` that points to the company's full name."
   ]
  },
  {
   "cell_type": "code",
   "execution_count": null,
   "metadata": {},
   "outputs": [],
   "source": [
    "('home depot',)"
   ]
  },
  {
   "cell_type": "code",
   "execution_count": 81,
   "metadata": {},
   "outputs": [
    {
     "name": "stdout",
     "output_type": "stream",
     "text": [
      "2018-11-05 11:04:47,194 INFO sqlalchemy.engine.base.Engine SELECT companies.company AS companies_company \n",
      "FROM companies \n",
      "WHERE companies.industry = ? AND companies.enterprise_value > ?\n",
      "2018-11-05 11:04:47,195 INFO sqlalchemy.engine.base.Engine ('Consumer products', 225)\n"
     ]
    },
    {
     "data": {
      "text/plain": [
       "[{'name': 'The Home Depot'}, {'name': 'Walmart'}]"
      ]
     },
     "execution_count": 81,
     "metadata": {},
     "output_type": "execute_result"
    }
   ],
   "source": [
    "def return_list_of_consumer_products_companies_with_EV_above_225():\n",
    "    ordered = session.query(Company.company).filter(Company.industry\\\n",
    "     == 'Consumer products').filter(Company.enterprise_value > 225).all()\n",
    "    return [{'name':tup[0]} for tup in ordered]\n",
    "return_list_of_consumer_products_companies_with_EV_above_225()"
   ]
  },
  {
   "cell_type": "markdown",
   "metadata": {},
   "source": [
    "* `return_conglomerates_and_pharmaceutical_companies`\n",
    "\n",
    "Write a query that returns all companies in the conglomerates **or** pharmaceuticals industries.  The query will return a list of all the company names that match this criteria."
   ]
  },
  {
   "cell_type": "code",
   "execution_count": 67,
   "metadata": {},
   "outputs": [
    {
     "name": "stdout",
     "output_type": "stream",
     "text": [
      "2018-11-05 10:16:03,665 INFO sqlalchemy.engine.base.Engine SELECT companies.company AS companies_company \n",
      "FROM companies \n",
      "WHERE companies.industry = ? OR companies.industry = ?\n",
      "2018-11-05 10:16:03,666 INFO sqlalchemy.engine.base.Engine ('Conglomerate', 'Pharmaceuticals')\n"
     ]
    },
    {
     "data": {
      "text/plain": [
       "[('3M'),\n",
       " ('General Electric'),\n",
       " ('Johnson & Johnson'),\n",
       " ('Merck'),\n",
       " ('Pfizer'),\n",
       " ('United Technologies')]"
      ]
     },
     "execution_count": 67,
     "metadata": {},
     "output_type": "execute_result"
    }
   ],
   "source": [
    "def return_conglomerates_and_pharmaceutical_companies():\n",
    "    return session.query(Company.company).filter(or_(Company.industry == 'Conglomerate', \\\n",
    "    Company.industry == 'Pharmaceuticals')).all()\n",
    "return_conglomerates_and_pharmaceutical_companies()"
   ]
  },
  {
   "cell_type": "markdown",
   "metadata": {},
   "source": [
    "#### Aggregate Functions\n",
    "\n",
    "To write aggregate functions (remember those?!) using SQLAlchemy, we must first import `func` from the SQLAlchemy library.\n",
    "\n",
    "* `avg_EV_of_dow_companies`\n",
    "\n",
    "Write a query that calculates and returns the average enterprise value for a company in the Dow Jones Industrials."
   ]
  },
  {
   "cell_type": "code",
   "execution_count": 69,
   "metadata": {},
   "outputs": [
    {
     "name": "stdout",
     "output_type": "stream",
     "text": [
      "2018-11-05 10:25:00,621 INFO sqlalchemy.engine.base.Engine SELECT avg(companies.enterprise_value) AS \"Avg Enterprise Value\" \n",
      "FROM companies\n",
      "2018-11-05 10:25:00,622 INFO sqlalchemy.engine.base.Engine ()\n"
     ]
    },
    {
     "data": {
      "text/plain": [
       "[(221.90999999999997)]"
      ]
     },
     "execution_count": 69,
     "metadata": {},
     "output_type": "execute_result"
    }
   ],
   "source": [
    "def avg_EV_of_dow_companies():\n",
    "    return session.query(func.avg(Company.enterprise_value).label('Avg Enterprise Value')).all()\n",
    "avg_EV_of_dow_companies()"
   ]
  },
  {
   "cell_type": "markdown",
   "metadata": {},
   "source": [
    "* `return_industry_and_its_total_EV`\n",
    "\n",
    "Write a query that returns each industry featured in the DJIA index and its respective total enterprise value.  The resulting list will be ordered alphabetically by industry name."
   ]
  },
  {
   "cell_type": "code",
   "execution_count": 76,
   "metadata": {},
   "outputs": [
    {
     "name": "stdout",
     "output_type": "stream",
     "text": [
      "2018-11-05 10:46:03,842 INFO sqlalchemy.engine.base.Engine SELECT companies.industry AS companies_industry, sum(companies.enterprise_value) AS \"Total Enterprise Value By Industry\" \n",
      "FROM companies GROUP BY companies.industry ORDER BY companies.industry\n",
      "2018-11-05 10:46:03,843 INFO sqlalchemy.engine.base.Engine ()\n"
     ]
    },
    {
     "data": {
      "text/plain": [
       "[('Broadcasting\\xa0and\\xa0entertainment', 172.31),\n",
       " ('Conglomerate', 482.95),\n",
       " ('Consumer products', 1217.87),\n",
       " ('Financial services', 73.86000000000001),\n",
       " ('Managed health care', 233.23),\n",
       " ('Manufacturing', 494.19000000000005),\n",
       " ('Oil & gas', 636.48),\n",
       " ('Pharmaceuticals', 775.82),\n",
       " ('Technology', 2260.95),\n",
       " ('Telecommunication', 309.64)]"
      ]
     },
     "execution_count": 76,
     "metadata": {},
     "output_type": "execute_result"
    }
   ],
   "source": [
    "def return_industry_and_its_total_EV():\n",
    "    return session.query(Company.industry,func.sum(Company.enterprise_value).\\\n",
    "    label('Total Enterprise Value By Industry')).group_by(Company.industry).order_by(Company.industry).all()\n",
    "\n",
    "return_industry_and_its_total_EV()"
   ]
  }
 ],
 "metadata": {
  "kernelspec": {
   "display_name": "Python 3",
   "language": "python",
   "name": "python3"
  },
  "language_info": {
   "codemirror_mode": {
    "name": "ipython",
    "version": 3
   },
   "file_extension": ".py",
   "mimetype": "text/x-python",
   "name": "python",
   "nbconvert_exporter": "python",
   "pygments_lexer": "ipython3",
<<<<<<< HEAD
   "version": "3.7.0"
=======
   "version": "3.6.6"
>>>>>>> e2cff0d0b36bc728ad23978906153e96e1e8de1f
  }
 },
 "nbformat": 4,
 "nbformat_minor": 2
}
